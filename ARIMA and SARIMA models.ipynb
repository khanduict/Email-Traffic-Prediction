{
 "cells": [
  {
   "cell_type": "code",
   "execution_count": 1,
   "metadata": {},
   "outputs": [],
   "source": [
    "from tensorflow.keras.models import Sequential, Model\n",
    "from tensorflow.keras.layers import Dense, LSTM, Flatten, Input\n",
    "import tensorflow as tf\n",
    "\n",
    "import pandas as pd\n",
    "import numpy as np\n",
    "\n",
    "from scipy import stats\n",
    "import seaborn as sns\n",
    "import matplotlib.pyplot as plt\n",
    "from pandas.tseries.holiday import USFederalHolidayCalendar as calender\n",
    "import calendar\n",
    "\n",
    "\n",
    "from statsmodels.tsa.stattools import adfuller\n",
    "from statsmodels.tsa.stattools import pacf, acf\n",
    "from statsmodels.tsa.seasonal import seasonal_decompose\n",
    "\n",
    "from pylab import rcParams\n",
    "from matplotlib import pyplot as plot\n",
    "\n",
    "\n",
    "from pandas.plotting import autocorrelation_plot\n",
    "from pandas.plotting import lag_plot\n",
    "from statsmodels.graphics.tsaplots import plot_acf, plot_pacf\n",
    "\n",
    "# math function\n",
    "from math import sqrt\n",
    "\n",
    "# evaluation metrics\n",
    "from sklearn.metrics import mean_squared_error\n",
    "\n",
    "from statsmodels.tsa.ar_model import AR\n",
    "from statsmodels.tsa.arima_model import ARMA\n",
    "from statsmodels.tsa.arima_model import ARIMA\n",
    "from statsmodels.tsa.statespace.sarimax import SARIMAX\n",
    "from sklearn.metrics import mean_squared_error\n",
    "\n",
    "import itertools\n",
    "\n",
    "# libraries to filter warnings in some algorithms\n",
    "import warnings\n",
    "warnings.filterwarnings(\"ignore\")"
   ]
  },
  {
   "cell_type": "code",
   "execution_count": 2,
   "metadata": {},
   "outputs": [],
   "source": [
    "#import data\n",
    "data = pd.read_csv('../Paper1/murdoch_system_incoming_traffic.csv', infer_datetime_format=True,\n",
    "                  parse_dates=['Date'], index_col='Date',\n",
    "                   names=['sender','Date', 'traffic', \n",
    "                                         'user'])"
   ]
  },
  {
   "cell_type": "code",
   "execution_count": 3,
   "metadata": {},
   "outputs": [
    {
     "data": {
      "text/html": [
       "<div>\n",
       "<style scoped>\n",
       "    .dataframe tbody tr th:only-of-type {\n",
       "        vertical-align: middle;\n",
       "    }\n",
       "\n",
       "    .dataframe tbody tr th {\n",
       "        vertical-align: top;\n",
       "    }\n",
       "\n",
       "    .dataframe thead th {\n",
       "        text-align: right;\n",
       "    }\n",
       "</style>\n",
       "<table border=\"1\" class=\"dataframe\">\n",
       "  <thead>\n",
       "    <tr style=\"text-align: right;\">\n",
       "      <th></th>\n",
       "      <th>sender</th>\n",
       "      <th>traffic</th>\n",
       "      <th>user</th>\n",
       "    </tr>\n",
       "    <tr>\n",
       "      <th>Date</th>\n",
       "      <th></th>\n",
       "      <th></th>\n",
       "      <th></th>\n",
       "    </tr>\n",
       "  </thead>\n",
       "  <tbody>\n",
       "    <tr>\n",
       "      <th>2015-09-13 00:00:04</th>\n",
       "      <td>received</td>\n",
       "      <td>2170</td>\n",
       "      <td>system</td>\n",
       "    </tr>\n",
       "    <tr>\n",
       "      <th>2015-09-13 00:00:04</th>\n",
       "      <td>received</td>\n",
       "      <td>788</td>\n",
       "      <td>system</td>\n",
       "    </tr>\n",
       "    <tr>\n",
       "      <th>2015-09-13 00:00:11</th>\n",
       "      <td>received</td>\n",
       "      <td>808</td>\n",
       "      <td>system</td>\n",
       "    </tr>\n",
       "    <tr>\n",
       "      <th>2015-09-13 00:00:38</th>\n",
       "      <td>received</td>\n",
       "      <td>1710</td>\n",
       "      <td>system</td>\n",
       "    </tr>\n",
       "    <tr>\n",
       "      <th>2015-09-13 00:00:18</th>\n",
       "      <td>received</td>\n",
       "      <td>7668</td>\n",
       "      <td>system</td>\n",
       "    </tr>\n",
       "  </tbody>\n",
       "</table>\n",
       "</div>"
      ],
      "text/plain": [
       "                       sender  traffic    user\n",
       "Date                                          \n",
       "2015-09-13 00:00:04  received     2170  system\n",
       "2015-09-13 00:00:04  received      788  system\n",
       "2015-09-13 00:00:11  received      808  system\n",
       "2015-09-13 00:00:38  received     1710  system\n",
       "2015-09-13 00:00:18  received     7668  system"
      ]
     },
     "execution_count": 3,
     "metadata": {},
     "output_type": "execute_result"
    }
   ],
   "source": [
    "data.head()"
   ]
  },
  {
   "cell_type": "code",
   "execution_count": 4,
   "metadata": {},
   "outputs": [],
   "source": [
    "#drop decoded frame column\n",
    "\n",
    "data.drop(('user'), axis=1, inplace=True)\n",
    "data.drop(('sender'), axis=1, inplace=True)"
   ]
  },
  {
   "cell_type": "code",
   "execution_count": 5,
   "metadata": {},
   "outputs": [
    {
     "data": {
      "text/html": [
       "<div>\n",
       "<style scoped>\n",
       "    .dataframe tbody tr th:only-of-type {\n",
       "        vertical-align: middle;\n",
       "    }\n",
       "\n",
       "    .dataframe tbody tr th {\n",
       "        vertical-align: top;\n",
       "    }\n",
       "\n",
       "    .dataframe thead th {\n",
       "        text-align: right;\n",
       "    }\n",
       "</style>\n",
       "<table border=\"1\" class=\"dataframe\">\n",
       "  <thead>\n",
       "    <tr style=\"text-align: right;\">\n",
       "      <th></th>\n",
       "      <th>traffic</th>\n",
       "    </tr>\n",
       "    <tr>\n",
       "      <th>Date</th>\n",
       "      <th></th>\n",
       "    </tr>\n",
       "  </thead>\n",
       "  <tbody>\n",
       "    <tr>\n",
       "      <th>2015-09-13 00:00:04</th>\n",
       "      <td>2170</td>\n",
       "    </tr>\n",
       "    <tr>\n",
       "      <th>2015-09-13 00:00:04</th>\n",
       "      <td>788</td>\n",
       "    </tr>\n",
       "    <tr>\n",
       "      <th>2015-09-13 00:00:11</th>\n",
       "      <td>808</td>\n",
       "    </tr>\n",
       "    <tr>\n",
       "      <th>2015-09-13 00:00:38</th>\n",
       "      <td>1710</td>\n",
       "    </tr>\n",
       "    <tr>\n",
       "      <th>2015-09-13 00:00:18</th>\n",
       "      <td>7668</td>\n",
       "    </tr>\n",
       "  </tbody>\n",
       "</table>\n",
       "</div>"
      ],
      "text/plain": [
       "                     traffic\n",
       "Date                        \n",
       "2015-09-13 00:00:04     2170\n",
       "2015-09-13 00:00:04      788\n",
       "2015-09-13 00:00:11      808\n",
       "2015-09-13 00:00:38     1710\n",
       "2015-09-13 00:00:18     7668"
      ]
     },
     "execution_count": 5,
     "metadata": {},
     "output_type": "execute_result"
    }
   ],
   "source": [
    "# view the first few rows and the headers\n",
    "\n",
    "data.head()"
   ]
  },
  {
   "cell_type": "code",
   "execution_count": 6,
   "metadata": {},
   "outputs": [
    {
     "name": "stdout",
     "output_type": "stream",
     "text": [
      "Shape of the dataset : (1160924, 1)\n",
      "\n",
      "First rows of the dataset :                      traffic\n",
      "Date                        \n",
      "2015-09-13 00:00:04   2170.0\n",
      "2015-09-13 00:00:04    788.0\n",
      "2015-09-13 00:00:11    808.0\n",
      "2015-09-13 00:00:38   1710.0\n",
      "2015-09-13 00:00:18   7668.0\n",
      "\n",
      "Statistics on the dataset :             traffic\n",
      "count  1.160924e+06\n",
      "mean   2.978874e+04\n",
      "std    5.270758e+05\n",
      "min    0.000000e+00\n",
      "25%    9.570000e+02\n",
      "50%    1.828000e+03\n",
      "75%    4.913000e+03\n",
      "max    1.512183e+08\n"
     ]
    }
   ],
   "source": [
    "# make dataset numeric\n",
    "data = data.astype('float32')\n",
    "\n",
    "# show descriptive stats:\n",
    "# summarize dataset\n",
    "print(\"Shape of the dataset :\", data.shape)\n",
    "print()\n",
    "print(\"First rows of the dataset :\", data.head())\n",
    "print()\n",
    "print(\"Statistics on the dataset :\",data.describe())"
   ]
  },
  {
   "cell_type": "code",
   "execution_count": 7,
   "metadata": {},
   "outputs": [
    {
     "data": {
      "image/png": "[encoded data removed]",
      "text/plain": [
       "<Figure size 360x216 with 1 Axes>"
      ]
     },
     "metadata": {
      "needs_background": "light"
     },
     "output_type": "display_data"
    }
   ],
   "source": [
    "\n",
    "plt.figure(figsize= (5,3))\n",
    "data['traffic'].plot()\n",
    "plt.ylabel(\"frame_size\")\n",
    "plt.show()"
   ]
  },
  {
   "cell_type": "code",
   "execution_count": 8,
   "metadata": {},
   "outputs": [
    {
     "data": {
      "text/plain": [
       "<matplotlib.axes._subplots.AxesSubplot at 0x248c7a2bb00>"
      ]
     },
     "execution_count": 8,
     "metadata": {},
     "output_type": "execute_result"
    },
    {
     "data": {
      "image/png": "[encoded data removed]",
      "text/plain": [
       "<Figure size 432x288 with 1 Axes>"
      ]
     },
     "metadata": {
      "needs_background": "light"
     },
     "output_type": "display_data"
    }
   ],
   "source": [
    "data['traffic'].plot()"
   ]
  },
  {
   "cell_type": "code",
   "execution_count": 9,
   "metadata": {},
   "outputs": [
    {
     "name": "stdout",
     "output_type": "stream",
     "text": [
      "                         traffic\n",
      "Date                            \n",
      "2015-09-13 00:00:00  7531.185059\n",
      "2015-09-13 01:00:00  6540.654785\n",
      "2015-09-13 02:00:00  6303.699219\n",
      "2015-09-13 03:00:00  9022.992188\n",
      "2015-09-13 04:00:00  5678.010742\n"
     ]
    }
   ],
   "source": [
    "data = pd.DataFrame(data[\"traffic\"].resample(\"h\").mean())\n",
    "print(data.head())\n"
   ]
  },
  {
   "cell_type": "code",
   "execution_count": 10,
   "metadata": {},
   "outputs": [
    {
     "name": "stdout",
     "output_type": "stream",
     "text": [
      "total number of rows : 6090\n",
      "number of rows missing traffic: 0\n",
      "                         traffic\n",
      "Date                            \n",
      "2015-09-13 00:00:00  7531.185059\n",
      "2015-09-13 01:00:00  6540.654785\n",
      "2015-09-13 02:00:00  6303.699219\n",
      "2015-09-13 03:00:00  9022.992188\n",
      "2015-09-13 04:00:00  5678.010742\n",
      "total number of rows : 6090\n",
      "number of rows missing traffic: 0\n",
      "                         traffic\n",
      "Date                            \n",
      "2015-09-13 00:00:00  7531.185059\n",
      "2015-09-13 01:00:00  6540.654785\n",
      "2015-09-13 02:00:00  6303.699219\n",
      "2015-09-13 03:00:00  9022.992188\n",
      "2015-09-13 04:00:00  5678.010742\n"
     ]
    }
   ],
   "source": [
    "#Check for missing values\n",
    "print(\"total number of rows : {0}\".format(len(data)))\n",
    "print(\"number of rows missing traffic: {0}\".format(len(data.loc[data['traffic'] == 0])))\n",
    "print(data.head())\n",
    "\n",
    "#Fill missing values\n",
    "data = data.replace(0, np.nan) # first replace 0 values with nan values, otherwise fill function doesnot work\n",
    "#daily_data.fillna(method= 'bfill', inplace=True) # fill using backward fill pandas function\n",
    "data.interpolate(method= 'linear', inplace=True)\n",
    "\n",
    "\n",
    "#Check how many other missing(zero) values\n",
    "print(\"total number of rows : {0}\".format(len(data)))\n",
    "print(\"number of rows missing traffic: {0}\".format(len(data.loc[data['traffic'] == 0])))\n",
    "print(data.head())"
   ]
  },
  {
   "cell_type": "markdown",
   "metadata": {},
   "source": [
    "# ***Test stationarity***\n",
    "The data is stationary if the mean, variance and covariance are constant over the period"
   ]
  },
  {
   "cell_type": "markdown",
   "metadata": {},
   "source": [
    "***Using Adfuller test***"
   ]
  },
  {
   "cell_type": "code",
   "execution_count": 11,
   "metadata": {},
   "outputs": [
    {
     "name": "stdout",
     "output_type": "stream",
     "text": [
      "ADF Statistic: -7.378716\n",
      "p-value: 0.000000\n",
      "Critical Values:\n",
      "\t1%: -3.431\n",
      "\t5%: -2.862\n",
      "\t10%: -2.567\n"
     ]
    }
   ],
   "source": [
    "# check if stationary\n",
    "result = adfuller(data.traffic)\n",
    "print('ADF Statistic: %f' % result[0])\n",
    "print('p-value: %f' % result[1])\n",
    "print('Critical Values:')\n",
    "for key, value in result[4].items():\n",
    "    print('\\t%s: %.3f' % (key, value))"
   ]
  },
  {
   "cell_type": "code",
   "execution_count": 12,
   "metadata": {},
   "outputs": [],
   "source": [
    "def adfuller_test(traffic):\n",
    "    result=adfuller(traffic)\n",
    "    labels = ['ADF Test Statistic','p-value','#Lags Used','Number of Observations Used']\n",
    "    for value,label in zip(result,labels):\n",
    "        print(label+' : '+str(value) )\n",
    "    if result[1] <= 0.05:\n",
    "        print(\"Data has no unit root and is stationary\")\n",
    "    else:\n",
    "        print(\"Data has a unit root, indicating it is non-stationary \")"
   ]
  },
  {
   "cell_type": "code",
   "execution_count": 13,
   "metadata": {},
   "outputs": [
    {
     "name": "stdout",
     "output_type": "stream",
     "text": [
      "ADF Test Statistic : -7.378716061066087\n",
      "p-value : 8.584859246585551e-11\n",
      "#Lags Used : 28\n",
      "Number of Observations Used : 6061\n",
      "Data has no unit root and is stationary\n"
     ]
    }
   ],
   "source": [
    "adfuller_test(data['traffic'])"
   ]
  },
  {
   "cell_type": "code",
   "execution_count": 14,
   "metadata": {},
   "outputs": [
    {
     "data": {
      "image/png": "[encoded data removed]",
      "text/plain": [
       "<Figure size 360x216 with 1 Axes>"
      ]
     },
     "metadata": {
      "needs_background": "light"
     },
     "output_type": "display_data"
    }
   ],
   "source": [
    "#moving average\n",
    "rolling_mean = data.traffic.rolling(window=30).mean()\n",
    "rolling_std = data.traffic.rolling(window=30).std()\n",
    "\n",
    "plt.figure(figsize= (5,3))\n",
    "data.traffic.plot(label='original')\n",
    "rolling_mean.plot(label='rolling_mean')\n",
    "rolling_std.plot(label='rolling_std')\n",
    "plt.legend(loc='best')\n",
    "plt.show()"
   ]
  },
  {
   "cell_type": "markdown",
   "metadata": {},
   "source": [
    "***Using Autocorrelation function (ACF) and partial autocorrelation function(PCAF)***"
   ]
  },
  {
   "cell_type": "code",
   "execution_count": 15,
   "metadata": {},
   "outputs": [
    {
     "data": {
      "image/png": "[encoded data removed]",
      "text/plain": [
       "<Figure size 360x216 with 1 Axes>"
      ]
     },
     "metadata": {
      "needs_background": "light"
     },
     "output_type": "display_data"
    }
   ],
   "source": [
    "plt.figure(figsize= (5,3))\n",
    "autocorrelation_plot(data.traffic)\n",
    "plt.title(\"Autocorrelation\")\n",
    "plt.show()\n"
   ]
  },
  {
   "cell_type": "code",
   "execution_count": 16,
   "metadata": {},
   "outputs": [
    {
     "data": {
      "image/png": "[encoded data removed]",
      "text/plain": [
       "<Figure size 1080x216 with 2 Axes>"
      ]
     },
     "metadata": {
      "needs_background": "light"
     },
     "output_type": "display_data"
    }
   ],
   "source": [
    "# Calculate ACF and PACF upto 50 lags\n",
    "\n",
    "fig, (ax1, ax2) = plt.subplots(1,2, figsize = (15,3))\n",
    "plot_acf(data.traffic, lags =100, ax = ax1)\n",
    "plot_pacf(data.traffic, lags =100, ax = ax2)\n",
    "plt.show()"
   ]
  },
  {
   "cell_type": "code",
   "execution_count": null,
   "metadata": {},
   "outputs": [],
   "source": []
  },
  {
   "cell_type": "markdown",
   "metadata": {},
   "source": [
    "# ***Make data stationary***"
   ]
  },
  {
   "cell_type": "markdown",
   "metadata": {},
   "source": [
    "***Using first order differencing***"
   ]
  },
  {
   "cell_type": "code",
   "execution_count": 17,
   "metadata": {},
   "outputs": [
    {
     "data": {
      "text/html": [
       "<div>\n",
       "<style scoped>\n",
       "    .dataframe tbody tr th:only-of-type {\n",
       "        vertical-align: middle;\n",
       "    }\n",
       "\n",
       "    .dataframe tbody tr th {\n",
       "        vertical-align: top;\n",
       "    }\n",
       "\n",
       "    .dataframe thead th {\n",
       "        text-align: right;\n",
       "    }\n",
       "</style>\n",
       "<table border=\"1\" class=\"dataframe\">\n",
       "  <thead>\n",
       "    <tr style=\"text-align: right;\">\n",
       "      <th></th>\n",
       "      <th>traffic</th>\n",
       "      <th>first_diff</th>\n",
       "    </tr>\n",
       "    <tr>\n",
       "      <th>Date</th>\n",
       "      <th></th>\n",
       "      <th></th>\n",
       "    </tr>\n",
       "  </thead>\n",
       "  <tbody>\n",
       "    <tr>\n",
       "      <th>2015-09-13 01:00:00</th>\n",
       "      <td>6540.654785</td>\n",
       "      <td>-990.530273</td>\n",
       "    </tr>\n",
       "    <tr>\n",
       "      <th>2015-09-13 02:00:00</th>\n",
       "      <td>6303.699219</td>\n",
       "      <td>-236.955566</td>\n",
       "    </tr>\n",
       "    <tr>\n",
       "      <th>2015-09-13 03:00:00</th>\n",
       "      <td>9022.992188</td>\n",
       "      <td>2719.292969</td>\n",
       "    </tr>\n",
       "    <tr>\n",
       "      <th>2015-09-13 04:00:00</th>\n",
       "      <td>5678.010742</td>\n",
       "      <td>-3344.981445</td>\n",
       "    </tr>\n",
       "    <tr>\n",
       "      <th>2015-09-13 05:00:00</th>\n",
       "      <td>10396.909180</td>\n",
       "      <td>4718.898438</td>\n",
       "    </tr>\n",
       "  </tbody>\n",
       "</table>\n",
       "</div>"
      ],
      "text/plain": [
       "                          traffic   first_diff\n",
       "Date                                          \n",
       "2015-09-13 01:00:00   6540.654785  -990.530273\n",
       "2015-09-13 02:00:00   6303.699219  -236.955566\n",
       "2015-09-13 03:00:00   9022.992188  2719.292969\n",
       "2015-09-13 04:00:00   5678.010742 -3344.981445\n",
       "2015-09-13 05:00:00  10396.909180  4718.898438"
      ]
     },
     "execution_count": 17,
     "metadata": {},
     "output_type": "execute_result"
    }
   ],
   "source": [
    "#First order differencing\n",
    "\n",
    "data['first_diff']= data['traffic'].diff()\n",
    "data.dropna(inplace=True)\n",
    "data.head()"
   ]
  },
  {
   "cell_type": "code",
   "execution_count": 18,
   "metadata": {},
   "outputs": [
    {
     "name": "stdout",
     "output_type": "stream",
     "text": [
      "ADF Test Statistic : -23.19647179764821\n",
      "p-value : 0.0\n",
      "#Lags Used : 27\n",
      "Number of Observations Used : 6061\n",
      "Data has no unit root and is stationary\n"
     ]
    }
   ],
   "source": [
    "## Again test dickey fuller test\n",
    "\n",
    "adfuller_test(data['first_diff'].dropna())"
   ]
  },
  {
   "cell_type": "code",
   "execution_count": 19,
   "metadata": {},
   "outputs": [
    {
     "data": {
      "text/plain": [
       "<matplotlib.axes._subplots.AxesSubplot at 0x248c4d480b8>"
      ]
     },
     "execution_count": 19,
     "metadata": {},
     "output_type": "execute_result"
    },
    {
     "data": {
      "image/png": "[encoded data removed]",
      "text/plain": [
       "<Figure size 432x288 with 1 Axes>"
      ]
     },
     "metadata": {
      "needs_background": "light"
     },
     "output_type": "display_data"
    }
   ],
   "source": [
    "\n",
    "data['first_diff'].plot()"
   ]
  },
  {
   "cell_type": "code",
   "execution_count": 20,
   "metadata": {},
   "outputs": [
    {
     "data": {
      "image/png": "[encoded data removed]",
      "text/plain": [
       "<Figure size 1080x216 with 2 Axes>"
      ]
     },
     "metadata": {
      "needs_background": "light"
     },
     "output_type": "display_data"
    }
   ],
   "source": [
    "# Calculate ACF and PACF upto 50 lags\n",
    "\n",
    "fig, (ax1, ax2) = plt.subplots(1,2, figsize = (15,3))\n",
    "plot_acf(data['first_diff'], lags =100, ax = ax1)\n",
    "plot_pacf(data['first_diff'], lags =100, ax = ax2)\n",
    "plt.show()"
   ]
  },
  {
   "cell_type": "markdown",
   "metadata": {},
   "source": [
    "# Model"
   ]
  },
  {
   "cell_type": "code",
   "execution_count": 21,
   "metadata": {},
   "outputs": [
    {
     "name": "stdout",
     "output_type": "stream",
     "text": [
      "Data_train (4871,) Data_test (1218,)\n"
     ]
    }
   ],
   "source": [
    "# *****************split into train and test sets********************\n",
    "dataset= data['traffic'].copy()\n",
    "\n",
    "train_size = int(len(dataset) * 0.80)\n",
    "test_size = len(dataset) - train_size\n",
    "trainset = dataset[0:train_size]\n",
    "testset= dataset[train_size:len(dataset)]\n",
    "print('Data_train', trainset.shape, 'Data_test',testset.shape)\n"
   ]
  },
  {
   "cell_type": "markdown",
   "metadata": {},
   "source": [
    "***Model 1: Autoregressive Integrated Moving Average (ARIMA)***"
   ]
  },
  {
   "cell_type": "code",
   "execution_count": 22,
   "metadata": {},
   "outputs": [],
   "source": [
    "#This model involves specifying the order for the AR(p), I(d), and MA(q) models\n",
    "# Define the p, d and q parameters to take any value between 0 and 2\n",
    "p = range(0,8)\n",
    "d = range(0,2)\n",
    "q = range(0,1)"
   ]
  },
  {
   "cell_type": "code",
   "execution_count": 23,
   "metadata": {},
   "outputs": [],
   "source": [
    "# Generate all different combinations of p, d and q triplets\n",
    "pdq = list(itertools.product(p, d, q))"
   ]
  },
  {
   "cell_type": "raw",
   "metadata": {},
   "source": [
    "***Grid Search to get the best p,d,q parameter***"
   ]
  },
  {
   "cell_type": "code",
   "execution_count": 24,
   "metadata": {},
   "outputs": [
    {
     "name": "stdout",
     "output_type": "stream",
     "text": [
      "Best ARIMA (7, 0, 0) model - AIC:122290.33630846448\n"
     ]
    }
   ],
   "source": [
    "best_aic = np.inf\n",
    "best_pdq = None\n",
    "temp_model = None\n",
    "for param in pdq:   \n",
    "    temp_model = ARIMA(trainset,order=param)\n",
    "    results = temp_model.fit()\n",
    "    if results.aic < best_aic:\n",
    "        best_aic = results.aic\n",
    "        best_pdq = param \n",
    "print(\"Best ARIMA {} model - AIC:{}\".format(best_pdq,best_aic))"
   ]
  },
  {
   "cell_type": "code",
   "execution_count": 25,
   "metadata": {},
   "outputs": [],
   "source": [
    "# using the best parameter in the model\n",
    "model = ARIMA(trainset,order=(7,0,0))\n",
    "model_fit = model.fit()"
   ]
  },
  {
   "cell_type": "code",
   "execution_count": 26,
   "metadata": {},
   "outputs": [],
   "source": [
    "predictions = model_fit.predict(start=len(trainset), end=len(trainset)+len(testset)-1)"
   ]
  },
  {
   "cell_type": "code",
   "execution_count": 27,
   "metadata": {},
   "outputs": [
    {
     "data": {
      "image/png": "[encoded data removed]",
      "text/plain": [
       "<Figure size 432x216 with 1 Axes>"
      ]
     },
     "metadata": {
      "needs_background": "light"
     },
     "output_type": "display_data"
    }
   ],
   "source": [
    "# plot results\n",
    "plt.figure(figsize=(6,3))\n",
    "plt.plot(testset)\n",
    "plt.plot(predictions, color='red')\n",
    "plt.show()"
   ]
  },
  {
   "cell_type": "code",
   "execution_count": 28,
   "metadata": {},
   "outputs": [
    {
     "name": "stdout",
     "output_type": "stream",
     "text": [
      "RMSE 19873.994\n",
      "RPE 27.13521465876828\n",
      "MAPE 0.271\n"
     ]
    }
   ],
   "source": [
    "#Prediction\n",
    "\n",
    "# Relative Percentage Error\n",
    "def mean_relative_percentage_error(y_pred, y_true): \n",
    "    y_true, y_pred = np.array(y_pred), np.array(y_true)\n",
    "    return np.mean(np.abs((y_pred - y_true) / y_true)) * 100\n",
    "\n",
    "# Root Mean Square Error (RMSE)\n",
    "rmse = np.sqrt(mean_squared_error(testset, predictions))\n",
    "rmse = round(rmse, 3)\n",
    "print('RMSE', rmse)\n",
    "\n",
    "rpe = mean_relative_percentage_error(testset, predictions)\n",
    "print ('RPE', rpe)\n",
    "\n",
    "# Mean Absolute Percentage Error\n",
    "abs_error = np.abs(testset-predictions)\n",
    "actual = testset\n",
    "mape = np.round(np.mean(np.abs(abs_error/actual)),3)\n",
    "print('MAPE', mape)"
   ]
  },
  {
   "cell_type": "code",
   "execution_count": 29,
   "metadata": {},
   "outputs": [
    {
     "data": {
      "text/html": [
       "<div>\n",
       "<style scoped>\n",
       "    .dataframe tbody tr th:only-of-type {\n",
       "        vertical-align: middle;\n",
       "    }\n",
       "\n",
       "    .dataframe tbody tr th {\n",
       "        vertical-align: top;\n",
       "    }\n",
       "\n",
       "    .dataframe thead th {\n",
       "        text-align: right;\n",
       "    }\n",
       "</style>\n",
       "<table border=\"1\" class=\"dataframe\">\n",
       "  <thead>\n",
       "    <tr style=\"text-align: right;\">\n",
       "      <th></th>\n",
       "      <th>Method</th>\n",
       "      <th>RMSE</th>\n",
       "      <th>MAPE</th>\n",
       "      <th>RPE</th>\n",
       "    </tr>\n",
       "  </thead>\n",
       "  <tbody>\n",
       "    <tr>\n",
       "      <th>0</th>\n",
       "      <td>Autoregressive Integrated Moving Average</td>\n",
       "      <td>19873.994</td>\n",
       "      <td>0.271</td>\n",
       "      <td>27.135215</td>\n",
       "    </tr>\n",
       "  </tbody>\n",
       "</table>\n",
       "</div>"
      ],
      "text/plain": [
       "                                     Method       RMSE   MAPE        RPE\n",
       "0  Autoregressive Integrated Moving Average  19873.994  0.271  27.135215"
      ]
     },
     "execution_count": 29,
     "metadata": {},
     "output_type": "execute_result"
    }
   ],
   "source": [
    "# Storing results in a dataframe\n",
    "tempResultsDf = pd.DataFrame({'Method':['Autoregressive Integrated Moving Average'], 'RMSE': [rmse],'MAPE': [mape],\n",
    "                              'RPE': [rpe] })\n",
    "resultsDf = pd.concat([tempResultsDf])\n",
    "resultsDf = resultsDf[['Method', 'RMSE', 'MAPE', 'RPE']]\n",
    "resultsDf"
   ]
  },
  {
   "cell_type": "code",
   "execution_count": null,
   "metadata": {},
   "outputs": [],
   "source": []
  },
  {
   "cell_type": "markdown",
   "metadata": {},
   "source": [
    "***Model 2: Seasonal Autoregressive Integrated Moving Average (SARIMA)***"
   ]
  },
  {
   "cell_type": "raw",
   "metadata": {},
   "source": [
    "It combines the ARIMA model with the ability to perform the same autoregression, differencing, and moving average modeling at the seasonal level."
   ]
  },
  {
   "cell_type": "code",
   "execution_count": 30,
   "metadata": {},
   "outputs": [],
   "source": [
    "# Define the p, d and q parameters to take any value between 0 and 2\n",
    "p = d = q = range(0, 2)"
   ]
  },
  {
   "cell_type": "code",
   "execution_count": 31,
   "metadata": {},
   "outputs": [
    {
     "data": {
      "text/plain": [
       "[(0, 0, 0),\n",
       " (0, 0, 1),\n",
       " (0, 1, 0),\n",
       " (0, 1, 1),\n",
       " (1, 0, 0),\n",
       " (1, 0, 1),\n",
       " (1, 1, 0),\n",
       " (1, 1, 1)]"
      ]
     },
     "execution_count": 31,
     "metadata": {},
     "output_type": "execute_result"
    }
   ],
   "source": [
    "# Generate all different combinations of p, d and q triplets\n",
    "pdq = list(itertools.product(p, d, q))\n",
    "pdq"
   ]
  },
  {
   "cell_type": "code",
   "execution_count": 32,
   "metadata": {},
   "outputs": [],
   "source": [
    "#Generate all different combinations of seasonal p, q and q triplets\n",
    "seasonal_pdq = [(x[0], x[1], x[2], 12) for x in list(itertools.product(p, d, q))]"
   ]
  },
  {
   "cell_type": "code",
   "execution_count": 33,
   "metadata": {},
   "outputs": [
    {
     "name": "stdout",
     "output_type": "stream",
     "text": [
      "Best ARIMA (1, 0, 1) x (1, 0, 1, 12) model - AIC:122063.83329122385\n"
     ]
    }
   ],
   "source": [
    "best_aic = np.inf\n",
    "best_pdq = None\n",
    "best_seasonal_pdq = None\n",
    "temp_model = None\n",
    "for param in pdq:   \n",
    "    for param_seasonal in seasonal_pdq: \n",
    "        temp_model = SARIMAX(trainset,order=param,seasonal_order = param_seasonal,enforce_invertibility=False,\n",
    "                             enforce_stationarity=False)\n",
    "        results = temp_model.fit(disp=False)\n",
    "        if results.aic < best_aic:\n",
    "            best_aic = results.aic\n",
    "            best_pdq = param\n",
    "            best_seasonal_pdq = param_seasonal\n",
    "print(\"Best ARIMA {} x {} model - AIC:{}\".format(best_pdq,best_seasonal_pdq,best_aic))"
   ]
  },
  {
   "cell_type": "code",
   "execution_count": 34,
   "metadata": {},
   "outputs": [],
   "source": [
    "\n",
    "# using the best parameter in the model\n",
    "model = SARIMAX(trainset,order=(1,1,1),seasonal_order=(1,1,1,12),enforce_invertibility=False,\n",
    "                             enforce_stationarity=False)\n",
    "model_fit = model.fit()"
   ]
  },
  {
   "cell_type": "code",
   "execution_count": 35,
   "metadata": {},
   "outputs": [],
   "source": [
    "predictions = model_fit.predict(start=len(trainset), end=len(trainset)+len(testset)-1)"
   ]
  },
  {
   "cell_type": "code",
   "execution_count": 37,
   "metadata": {},
   "outputs": [
    {
     "data": {
      "image/png": "[encoded data removed]",
      "text/plain": [
       "<Figure size 504x216 with 1 Axes>"
      ]
     },
     "metadata": {
      "needs_background": "light"
     },
     "output_type": "display_data"
    }
   ],
   "source": [
    "# plot results\n",
    "plt.figure(figsize=(7,3))\n",
    "plt.plot(testset)\n",
    "plt.plot(predictions, color='red')\n",
    "plt.show()"
   ]
  },
  {
   "cell_type": "code",
   "execution_count": 38,
   "metadata": {},
   "outputs": [
    {
     "name": "stdout",
     "output_type": "stream",
     "text": [
      "RMSE 50206.497\n",
      "RPE 133.66888101412783\n",
      "MAPE 1.337\n"
     ]
    }
   ],
   "source": [
    "#Prediction\n",
    "\n",
    "# Relative Percentage Error\n",
    "def mean_relative_percentage_error(y_pred, y_true): \n",
    "    y_true, y_pred = np.array(y_pred), np.array(y_true)\n",
    "    return np.mean(np.abs((y_pred - y_true) / y_true)) * 100\n",
    "\n",
    "# Root Mean Square Error (RMSE)\n",
    "rmse = np.sqrt(mean_squared_error(testset, predictions))\n",
    "rmse = round(rmse, 3)\n",
    "print('RMSE', rmse)\n",
    "\n",
    "rpe = mean_relative_percentage_error(testset, predictions)\n",
    "print ('RPE', rpe)\n",
    "\n",
    "# Mean Absolute Percentage Error\n",
    "abs_error = np.abs(testset-predictions)\n",
    "actual = testset\n",
    "mape = np.round(np.mean(np.abs(abs_error/actual)),3)\n",
    "print('MAPE', mape)"
   ]
  },
  {
   "cell_type": "code",
   "execution_count": 39,
   "metadata": {},
   "outputs": [
    {
     "data": {
      "text/html": [
       "<div>\n",
       "<style scoped>\n",
       "    .dataframe tbody tr th:only-of-type {\n",
       "        vertical-align: middle;\n",
       "    }\n",
       "\n",
       "    .dataframe tbody tr th {\n",
       "        vertical-align: top;\n",
       "    }\n",
       "\n",
       "    .dataframe thead th {\n",
       "        text-align: right;\n",
       "    }\n",
       "</style>\n",
       "<table border=\"1\" class=\"dataframe\">\n",
       "  <thead>\n",
       "    <tr style=\"text-align: right;\">\n",
       "      <th></th>\n",
       "      <th>Method</th>\n",
       "      <th>RMSE</th>\n",
       "      <th>MAPE</th>\n",
       "      <th>RPE</th>\n",
       "    </tr>\n",
       "  </thead>\n",
       "  <tbody>\n",
       "    <tr>\n",
       "      <th>0</th>\n",
       "      <td>Autoregressive Integrated Moving Average</td>\n",
       "      <td>19873.994</td>\n",
       "      <td>0.271</td>\n",
       "      <td>27.135215</td>\n",
       "    </tr>\n",
       "    <tr>\n",
       "      <th>1</th>\n",
       "      <td>Seasonal Autoregressive Integrated Moving Average</td>\n",
       "      <td>50206.497</td>\n",
       "      <td>1.337</td>\n",
       "      <td>133.668881</td>\n",
       "    </tr>\n",
       "  </tbody>\n",
       "</table>\n",
       "</div>"
      ],
      "text/plain": [
       "                                              Method       RMSE   MAPE  \\\n",
       "0           Autoregressive Integrated Moving Average  19873.994  0.271   \n",
       "1  Seasonal Autoregressive Integrated Moving Average  50206.497  1.337   \n",
       "\n",
       "          RPE  \n",
       "0   27.135215  \n",
       "1  133.668881  "
      ]
     },
     "execution_count": 39,
     "metadata": {},
     "output_type": "execute_result"
    }
   ],
   "source": [
    "# Storing results in a dataframe\n",
    "tempResultsDf = pd.DataFrame({'Method':['Seasonal Autoregressive Integrated Moving Average'], 'RMSE': [rmse],\n",
    "                              'MAPE': [mape],'RPE': [rpe] })\n",
    "resultsDf = pd.concat([resultsDf, tempResultsDf])\n",
    "resultsDf = resultsDf[['Method', 'RMSE', 'MAPE', 'RPE']]\n",
    "resultsDf.index = [i for i in range(len(resultsDf))]\n",
    "resultsDf"
   ]
  },
  {
   "cell_type": "code",
   "execution_count": null,
   "metadata": {},
   "outputs": [],
   "source": []
  },
  {
   "cell_type": "code",
   "execution_count": null,
   "metadata": {},
   "outputs": [],
   "source": []
  },
  {
   "cell_type": "code",
   "execution_count": 40,
   "metadata": {},
   "outputs": [
    {
     "data": {
      "image/png": "[encoded data removed]",
      "text/plain": [
       "<Figure size 504x216 with 1 Axes>"
      ]
     },
     "metadata": {
      "needs_background": "light"
     },
     "output_type": "display_data"
    }
   ],
   "source": [
    "axis = trainset.plot(label='Train Sales', figsize=(7, 3))\n",
    "testset.plot(ax=axis, label='Test Sales', alpha=0.7)\n",
    "predictions.plot(ax=axis, label='Forecasted Sales', alpha=0.7)\n",
    "axis.set_xlabel('data')\n",
    "axis.set_ylabel('traffic')\n",
    "plt.legend(loc='best')\n",
    "plt.show()\n",
    "plt.close()"
   ]
  },
  {
   "cell_type": "code",
   "execution_count": null,
   "metadata": {},
   "outputs": [],
   "source": []
  },
  {
   "cell_type": "code",
   "execution_count": null,
   "metadata": {},
   "outputs": [],
   "source": []
  }
 ],
 "metadata": {
  "kernelspec": {
   "display_name": "Python 3",
   "language": "python",
   "name": "python3"
  },
  "language_info": {
   "codemirror_mode": {
    "name": "ipython",
    "version": 3
   },
   "file_extension": ".py",
   "mimetype": "text/x-python",
   "name": "python",
   "nbconvert_exporter": "python",
   "pygments_lexer": "ipython3",
   "version": "3.8.5"
  }
 },
 "nbformat": 4,
 "nbformat_minor": 2
}
