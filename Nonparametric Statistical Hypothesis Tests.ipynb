{
 "cells": [
  {
   "cell_type": "code",
   "execution_count": 1,
   "metadata": {},
   "outputs": [],
   "source": [
    "import pandas as pd\n",
    "import numpy as np\n",
    "\n",
    "from scipy import stats\n",
    "import seaborn as sns\n",
    "import matplotlib.pyplot as plt\n",
    "\n",
    "import pandas\n",
    "from scipy.stats import mstats"
   ]
  },
  {
   "cell_type": "code",
   "execution_count": 2,
   "metadata": {},
   "outputs": [],
   "source": [
    "#*******************************Load data***************************************\n",
    "\n",
    "data_raw = []\n",
    "for week in range(1, 5):\n",
    "    week_data = pd.read_csv('Ljmuin{}.csv'.format(week),usecols=[2]).values\n",
    "    data_raw.append(week_data)"
   ]
  },
  {
   "cell_type": "code",
   "execution_count": 3,
   "metadata": {},
   "outputs": [],
   "source": [
    "data = np.concatenate(data_raw)\n",
    "data= pd.DataFrame(data)"
   ]
  },
  {
   "cell_type": "code",
   "execution_count": 4,
   "metadata": {},
   "outputs": [],
   "source": [
    "## Cleaning up the data\n",
    "data.columns=[\"traffic\"]"
   ]
  },
  {
   "cell_type": "code",
   "execution_count": 5,
   "metadata": {},
   "outputs": [
    {
     "data": {
      "text/html": [
       "<div>\n",
       "<style scoped>\n",
       "    .dataframe tbody tr th:only-of-type {\n",
       "        vertical-align: middle;\n",
       "    }\n",
       "\n",
       "    .dataframe tbody tr th {\n",
       "        vertical-align: top;\n",
       "    }\n",
       "\n",
       "    .dataframe thead th {\n",
       "        text-align: right;\n",
       "    }\n",
       "</style>\n",
       "<table border=\"1\" class=\"dataframe\">\n",
       "  <thead>\n",
       "    <tr style=\"text-align: right;\">\n",
       "      <th></th>\n",
       "      <th>traffic</th>\n",
       "    </tr>\n",
       "  </thead>\n",
       "  <tbody>\n",
       "    <tr>\n",
       "      <th>0</th>\n",
       "      <td>23779</td>\n",
       "    </tr>\n",
       "    <tr>\n",
       "      <th>1</th>\n",
       "      <td>66568</td>\n",
       "    </tr>\n",
       "    <tr>\n",
       "      <th>2</th>\n",
       "      <td>12168</td>\n",
       "    </tr>\n",
       "    <tr>\n",
       "      <th>3</th>\n",
       "      <td>9563</td>\n",
       "    </tr>\n",
       "    <tr>\n",
       "      <th>4</th>\n",
       "      <td>10391</td>\n",
       "    </tr>\n",
       "  </tbody>\n",
       "</table>\n",
       "</div>"
      ],
      "text/plain": [
       "   traffic\n",
       "0    23779\n",
       "1    66568\n",
       "2    12168\n",
       "3     9563\n",
       "4    10391"
      ]
     },
     "execution_count": 5,
     "metadata": {},
     "output_type": "execute_result"
    }
   ],
   "source": [
    "data.head()"
   ]
  },
  {
   "cell_type": "code",
   "execution_count": 6,
   "metadata": {},
   "outputs": [
    {
     "name": "stdout",
     "output_type": "stream",
     "text": [
      "Shape of the dataset : (1004298, 1)\n",
      "\n",
      "First rows of the dataset :    traffic\n",
      "0  23779.0\n",
      "1  66568.0\n",
      "2  12168.0\n",
      "3   9563.0\n",
      "4  10391.0\n",
      "\n",
      "Statistics on the dataset :             traffic\n",
      "count  1.004298e+06\n",
      "mean   9.358708e+04\n",
      "std    7.230369e+05\n",
      "min    6.840000e+02\n",
      "25%    1.037200e+04\n",
      "50%    2.506800e+04\n",
      "75%    5.872600e+04\n",
      "max    6.744181e+07\n"
     ]
    }
   ],
   "source": [
    "# make dataset numeric\n",
    "data = data.astype('float32')\n",
    "\n",
    "# show descriptive stats:\n",
    "# summarize dataset\n",
    "print(\"Shape of the dataset :\", data.shape)\n",
    "print()\n",
    "print(\"First rows of the dataset :\", data.head())\n",
    "print()\n",
    "print(\"Statistics on the dataset :\",data.describe())"
   ]
  },
  {
   "cell_type": "code",
   "execution_count": 7,
   "metadata": {},
   "outputs": [
    {
     "data": {
      "image/png": "[encoded data removed]",
      "text/plain": [
       "<Figure size 360x216 with 1 Axes>"
      ]
     },
     "metadata": {
      "needs_background": "light"
     },
     "output_type": "display_data"
    }
   ],
   "source": [
    "plt.figure(figsize= (5,3))\n",
    "data['traffic'].plot()\n",
    "plt.ylabel(\"traffic\")\n",
    "plt.xlabel(\"date\")\n",
    "plt.show()"
   ]
  },
  {
   "cell_type": "code",
   "execution_count": 8,
   "metadata": {},
   "outputs": [
    {
     "name": "stdout",
     "output_type": "stream",
     "text": [
      "total number of rows : 1004298\n",
      "number of rows missing traffic: 0\n",
      "   traffic\n",
      "0  23779.0\n",
      "1  66568.0\n",
      "2  12168.0\n",
      "3   9563.0\n",
      "4  10391.0\n",
      "total number of rows : 1004298\n",
      "number of rows missing traffic: 0\n",
      "   traffic\n",
      "0  23779.0\n",
      "1  66568.0\n",
      "2  12168.0\n",
      "3   9563.0\n",
      "4  10391.0\n"
     ]
    }
   ],
   "source": [
    "#Check for missing values\n",
    "print(\"total number of rows : {0}\".format(len(data)))\n",
    "print(\"number of rows missing traffic: {0}\".format(len(data.loc[data['traffic'] == 0])))\n",
    "print(data.head())\n",
    "\n",
    "#Fill missing values\n",
    "data = data.replace(0, np.nan) # first replace 0 values with nan values, otherwise fill function doesnot work\n",
    "#daily_data.fillna(method= 'bfill', inplace=True) # fill using backward fill pandas function\n",
    "data.interpolate(method= 'linear', inplace=True)\n",
    "\n",
    "\n",
    "#Check how many other missing(zero) values\n",
    "print(\"total number of rows : {0}\".format(len(data)))\n",
    "print(\"number of rows missing traffic: {0}\".format(len(data.loc[data['traffic'] == 0])))\n",
    "print(data.head())"
   ]
  },
  {
   "cell_type": "code",
   "execution_count": null,
   "metadata": {},
   "outputs": [],
   "source": []
  },
  {
   "cell_type": "markdown",
   "metadata": {},
   "source": [
    "# Test for normality"
   ]
  },
  {
   "cell_type": "raw",
   "metadata": {},
   "source": [
    "Statistical Normality Test\n",
    "There are several statistical tests that we can use to quantify whether our data looks as though it was drawn from a Gaussian distribution. And we will use D’Agostino’s K^2 Test. In the SciPy implementation of the test, we will interpret the p value as follows. p <= alpha: reject H0, not normal. p > alpha: fail to reject H0, normal."
   ]
  },
  {
   "cell_type": "code",
   "execution_count": 9,
   "metadata": {},
   "outputs": [
    {
     "name": "stdout",
     "output_type": "stream",
     "text": [
      "Statistics=2560211.497, p=0.000\n",
      "Data does not look Gaussian (reject H0)\n"
     ]
    }
   ],
   "source": [
    "stat, p = stats.normaltest(data.traffic)\n",
    "print('Statistics=%.3f, p=%.3f' % (stat, p))\n",
    "alpha = 0.05\n",
    "if p > alpha:\n",
    "    print('Data looks Gaussian (fail to reject H0)')\n",
    "else:\n",
    "    print('Data does not look Gaussian (reject H0)')"
   ]
  },
  {
   "cell_type": "raw",
   "metadata": {},
   "source": [
    "We can also calculate kurtosis and skewness, to determine if the data distribution departs from the normal distribution.\n",
    "\n",
    "KURTOSIS: describes heaviness of the tails of a distribution Normal Distribution has a kurtosis of close to 0. If the kurtosis is greater than zero, then distribution has heavier tails. If the kurtosis is less than zero, then the distribution is light tails. And our Kurtosis is greater than zero.\n",
    "SKEWNESS: If the skewness is between -0.5 and 0.5, the data are fairly symmetrical. If the skewness is between -1 and – 0.5 or between 0.5 and 1, the data are moderately skewed. If the skewness is less than -1 or greater than 1, the data are highly skewed. And our skewness is greater than 1."
   ]
  },
  {
   "cell_type": "code",
   "execution_count": 10,
   "metadata": {},
   "outputs": [
    {
     "name": "stdout",
     "output_type": "stream",
     "text": [
      "Kurtosis of normal distribution: 1187.691812278465\n",
      "Skewness of normal distribution: 28.823219299316406\n"
     ]
    },
    {
     "data": {
      "image/png": "[encoded data removed]",
      "text/plain": [
       "<Figure size 432x288 with 1 Axes>"
      ]
     },
     "metadata": {
      "needs_background": "light"
     },
     "output_type": "display_data"
    }
   ],
   "source": [
    "\n",
    "sns.distplot(data.traffic);\n",
    "print( 'Kurtosis of normal distribution: {}'.format(stats.kurtosis(data.traffic)))\n",
    "print( 'Skewness of normal distribution: {}'.format(stats.skew(data.traffic)))"
   ]
  },
  {
   "cell_type": "code",
   "execution_count": 11,
   "metadata": {},
   "outputs": [
    {
     "data": {
      "text/plain": [
       "(1004298, 1)"
      ]
     },
     "execution_count": 11,
     "metadata": {},
     "output_type": "execute_result"
    }
   ],
   "source": [
    "data.shape"
   ]
  },
  {
   "cell_type": "markdown",
   "metadata": {},
   "source": [
    "# Non parametric test"
   ]
  },
  {
   "cell_type": "markdown",
   "metadata": {},
   "source": [
    "***Kruskal Wallis test***"
   ]
  },
  {
   "cell_type": "code",
   "execution_count": 12,
   "metadata": {},
   "outputs": [
    {
     "name": "stdout",
     "output_type": "stream",
     "text": [
      "Kruskal Wallis H-test test:\n",
      "H-statistic: 1004296.9999999997\n",
      "P-Value: 0.4998123395597606\n",
      "Accept NULL hypothesis - No significant difference between groups.\n"
     ]
    }
   ],
   "source": [
    "\n",
    "\n",
    "print(\"Kruskal Wallis H-test test:\")\n",
    "\n",
    "H, pval = mstats.kruskalwallis(data)\n",
    "\n",
    "print(\"H-statistic:\", H)\n",
    "print(\"P-Value:\", pval)\n",
    "\n",
    "if pval < 0.05:\n",
    "    print(\"Reject NULL hypothesis - Significant differences exist between groups.\")\n",
    "if pval > 0.05:\n",
    "    print(\"Accept NULL hypothesis - No significant difference between groups.\")"
   ]
  },
  {
   "cell_type": "code",
   "execution_count": null,
   "metadata": {},
   "outputs": [],
   "source": []
  },
  {
   "cell_type": "code",
   "execution_count": null,
   "metadata": {},
   "outputs": [],
   "source": []
  }
 ],
 "metadata": {
  "kernelspec": {
   "display_name": "Python 3",
   "language": "python",
   "name": "python3"
  },
  "language_info": {
   "codemirror_mode": {
    "name": "ipython",
    "version": 3
   },
   "file_extension": ".py",
   "mimetype": "text/x-python",
   "name": "python",
   "nbconvert_exporter": "python",
   "pygments_lexer": "ipython3",
   "version": "3.8.5"
  }
 },
 "nbformat": 4,
 "nbformat_minor": 2
}
